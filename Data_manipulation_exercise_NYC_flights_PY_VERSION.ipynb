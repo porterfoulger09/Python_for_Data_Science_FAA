{
  "cells": [
    {
      "metadata": {},
      "cell_type": "markdown",
      "source": "# Python data manipulation exercise - NYC flights data"
    },
    {
      "metadata": {},
      "cell_type": "markdown",
      "source": "### Problem\n\n#### Data\n\nLoad the data set nycflights_full.csv. This is data on about 336000 flights during the year 2013. The data is in three pieces - nycflights_full_p1.csv, nycflights_full_p2.csv, nycflights_full_p3.csv. You need to put these together by concatenating them - they all contain the same columns, and there is no duplication of records among these data sets.\n\n**Note that there are NAs in this data set: deal with them appropriately.**\n\n\n#### Tasks\n<ol>\n<li>Find out the number of flights for each day of the week</li>\n<li>Find the average distance, total distance and number for all delayed flights on Friday (Note that we need to define what is meant by “delayed”, and create an indicator variable for this)</li>\n<li>Find out how many flights were on time on weekdays and weekends (Consider Saturday and Sunday as weekends)</li>\n<li>Find out the number of flights for each destination across all weekdays (i.e. Monday to Friday)</li>\n<li>Find number of delayed flights by distance and origin (you need to convert the continuous numeric variable distance into a categoric variable)</li>\n</ol>"
    },
    {
      "metadata": {
        "trusted": true
      },
      "cell_type": "code",
      "source": "import pandas as pd",
      "execution_count": 1,
      "outputs": []
    },
    {
      "metadata": {
        "trusted": true
      },
      "cell_type": "code",
      "source": "d1 = pd.read_csv('./Data/nycflights_full_p1.csv')",
      "execution_count": 2,
      "outputs": []
    },
    {
      "metadata": {},
      "cell_type": "markdown",
      "source": "# End"
    }
  ],
  "metadata": {
    "kernelspec": {
      "name": "python3",
      "display_name": "Python 3",
      "language": "python"
    },
    "language_info": {
      "mimetype": "text/x-python",
      "nbconvert_exporter": "python",
      "name": "python",
      "pygments_lexer": "ipython3",
      "version": "3.5.4",
      "file_extension": ".py",
      "codemirror_mode": {
        "version": 3,
        "name": "ipython"
      }
    }
  },
  "nbformat": 4,
  "nbformat_minor": 1
}