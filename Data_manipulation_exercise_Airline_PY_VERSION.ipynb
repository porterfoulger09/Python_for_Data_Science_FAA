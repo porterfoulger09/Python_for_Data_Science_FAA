{
  "cells": [
    {
      "metadata": {},
      "cell_type": "markdown",
      "source": "# Python data manipulation exercise - Airline Performance Analysis"
    },
    {
      "metadata": {},
      "cell_type": "markdown",
      "source": "## Problem\n\nAirlines are always run on tight schedules and very thin operating margins. To top this, the customers are extremely demanding expecting their flights to be on time always. Airline carriers try to overcome this challenge by detailed planning and prompt execution. However, there are factors like weather, technical glitches, unexpected challenges at airports which end up causing delay in arrival or departure of aircrafts. Since, the flights hop multiple cities any delay caused at one nodal city adds up and results in significant delays in subsequent stoppages if not taken care of early. \n\n## What is expected from you?\nYou have been provided with 3 datasets : \n1. airline-performance.csv\n2. air-carrier-details.csv\n3. airports.csv\n\nBelow are a set of questions of interest related to the problem statement at hand. Leverage your Python data wrangling skills to solve them"
    },
    {
      "metadata": {},
      "cell_type": "markdown",
      "source": "## Questions :"
    },
    {
      "metadata": {
        "trusted": true
      },
      "cell_type": "code",
      "source": "import pandas as pd",
      "execution_count": 1,
      "outputs": []
    },
    {
      "metadata": {
        "trusted": true
      },
      "cell_type": "code",
      "source": "air = pd.read_csv('data/airline-performance.csv')",
      "execution_count": 2,
      "outputs": []
    },
    {
      "metadata": {
        "trusted": true
      },
      "cell_type": "code",
      "source": "air.columns",
      "execution_count": 8,
      "outputs": [
        {
          "output_type": "execute_result",
          "execution_count": 8,
          "data": {
            "text/plain": "Index(['RowNo', 'Month', 'DayofMonth', 'DayOfWeek', 'DepTime', 'ShDepTime',\n       'ArrTime', 'ShArrTime', 'UniqueCarrierCode', 'FlightNum', 'TailNum',\n       'ActualElapsedTime', 'ShElapsedTime', 'AirTime', 'ArrDelay', 'DepDelay',\n       'OriginCode', 'DestCode', 'Distance', 'TaxiIn', 'TaxiOut', 'Cancelled',\n       'CancellationCode', 'Diverted', 'CarrierDelay', 'WeatherDelay',\n       'NASDelay', 'SecurityDelay', 'LateAircraftDelay'],\n      dtype='object')"
          },
          "metadata": {}
        }
      ]
    },
    {
      "metadata": {
        "trusted": true
      },
      "cell_type": "code",
      "source": "air.head()",
      "execution_count": 15,
      "outputs": [
        {
          "output_type": "execute_result",
          "execution_count": 15,
          "data": {
            "text/plain": "   RowNo  Month  DayofMonth  DayOfWeek  DepTime  ShDepTime  ArrTime  \\\n0      1      9          16          2   1725.0       1730   1857.0   \n1      2      9          28          7   1706.0       1635   1920.0   \n2      3      2          11          1    919.0        915   1021.0   \n3      4     12          26          5   1912.0       1915   2144.0   \n4      5      8           3          7   2223.0       2230    630.0   \n\n   ShArrTime UniqueCarrierCode  FlightNum        ...         TaxiIn  TaxiOut  \\\n0     1909.0                CO       1197        ...            9.0     20.0   \n1     1905.0                WN        251        ...            6.0      9.0   \n2     1022.0                MQ       3263        ...            1.0     19.0   \n3     2150.0                MQ       3436        ...            5.0     13.0   \n4      658.0                B6        174        ...            3.0     14.0   \n\n   Cancelled  CancellationCode  Diverted  CarrierDelay WeatherDelay NASDelay  \\\n0          0               NaN         0           NaN          NaN      NaN   \n1          0               NaN         0           3.0          0.0      0.0   \n2          0               NaN         0           NaN          NaN      NaN   \n3          0               NaN         0           NaN          NaN      NaN   \n4          0               NaN         0           NaN          NaN      NaN   \n\n   SecurityDelay  LateAircraftDelay  \n0            NaN                NaN  \n1            0.0               12.0  \n2            NaN                NaN  \n3            NaN                NaN  \n4            NaN                NaN  \n\n[5 rows x 29 columns]",
            "text/html": "<div>\n<table border=\"1\" class=\"dataframe\">\n  <thead>\n    <tr style=\"text-align: right;\">\n      <th></th>\n      <th>RowNo</th>\n      <th>Month</th>\n      <th>DayofMonth</th>\n      <th>DayOfWeek</th>\n      <th>DepTime</th>\n      <th>ShDepTime</th>\n      <th>ArrTime</th>\n      <th>ShArrTime</th>\n      <th>UniqueCarrierCode</th>\n      <th>FlightNum</th>\n      <th>...</th>\n      <th>TaxiIn</th>\n      <th>TaxiOut</th>\n      <th>Cancelled</th>\n      <th>CancellationCode</th>\n      <th>Diverted</th>\n      <th>CarrierDelay</th>\n      <th>WeatherDelay</th>\n      <th>NASDelay</th>\n      <th>SecurityDelay</th>\n      <th>LateAircraftDelay</th>\n    </tr>\n  </thead>\n  <tbody>\n    <tr>\n      <th>0</th>\n      <td>1</td>\n      <td>9</td>\n      <td>16</td>\n      <td>2</td>\n      <td>1725.0</td>\n      <td>1730</td>\n      <td>1857.0</td>\n      <td>1909.0</td>\n      <td>CO</td>\n      <td>1197</td>\n      <td>...</td>\n      <td>9.0</td>\n      <td>20.0</td>\n      <td>0</td>\n      <td>NaN</td>\n      <td>0</td>\n      <td>NaN</td>\n      <td>NaN</td>\n      <td>NaN</td>\n      <td>NaN</td>\n      <td>NaN</td>\n    </tr>\n    <tr>\n      <th>1</th>\n      <td>2</td>\n      <td>9</td>\n      <td>28</td>\n      <td>7</td>\n      <td>1706.0</td>\n      <td>1635</td>\n      <td>1920.0</td>\n      <td>1905.0</td>\n      <td>WN</td>\n      <td>251</td>\n      <td>...</td>\n      <td>6.0</td>\n      <td>9.0</td>\n      <td>0</td>\n      <td>NaN</td>\n      <td>0</td>\n      <td>3.0</td>\n      <td>0.0</td>\n      <td>0.0</td>\n      <td>0.0</td>\n      <td>12.0</td>\n    </tr>\n    <tr>\n      <th>2</th>\n      <td>3</td>\n      <td>2</td>\n      <td>11</td>\n      <td>1</td>\n      <td>919.0</td>\n      <td>915</td>\n      <td>1021.0</td>\n      <td>1022.0</td>\n      <td>MQ</td>\n      <td>3263</td>\n      <td>...</td>\n      <td>1.0</td>\n      <td>19.0</td>\n      <td>0</td>\n      <td>NaN</td>\n      <td>0</td>\n      <td>NaN</td>\n      <td>NaN</td>\n      <td>NaN</td>\n      <td>NaN</td>\n      <td>NaN</td>\n    </tr>\n    <tr>\n      <th>3</th>\n      <td>4</td>\n      <td>12</td>\n      <td>26</td>\n      <td>5</td>\n      <td>1912.0</td>\n      <td>1915</td>\n      <td>2144.0</td>\n      <td>2150.0</td>\n      <td>MQ</td>\n      <td>3436</td>\n      <td>...</td>\n      <td>5.0</td>\n      <td>13.0</td>\n      <td>0</td>\n      <td>NaN</td>\n      <td>0</td>\n      <td>NaN</td>\n      <td>NaN</td>\n      <td>NaN</td>\n      <td>NaN</td>\n      <td>NaN</td>\n    </tr>\n    <tr>\n      <th>4</th>\n      <td>5</td>\n      <td>8</td>\n      <td>3</td>\n      <td>7</td>\n      <td>2223.0</td>\n      <td>2230</td>\n      <td>630.0</td>\n      <td>658.0</td>\n      <td>B6</td>\n      <td>174</td>\n      <td>...</td>\n      <td>3.0</td>\n      <td>14.0</td>\n      <td>0</td>\n      <td>NaN</td>\n      <td>0</td>\n      <td>NaN</td>\n      <td>NaN</td>\n      <td>NaN</td>\n      <td>NaN</td>\n      <td>NaN</td>\n    </tr>\n  </tbody>\n</table>\n<p>5 rows × 29 columns</p>\n</div>"
          },
          "metadata": {}
        }
      ]
    },
    {
      "metadata": {
        "trusted": true
      },
      "cell_type": "code",
      "source": "air2 = pd.read_csv('data/air-carrier-details.csv')",
      "execution_count": 4,
      "outputs": []
    },
    {
      "metadata": {
        "trusted": true
      },
      "cell_type": "code",
      "source": "air2.loc[900:905,]",
      "execution_count": 25,
      "outputs": [
        {
          "output_type": "execute_result",
          "execution_count": 25,
          "data": {
            "text/plain": "      Code                     Description\n900  19932  Apa International Air S.A.: 7P\n901  19933             Air New Zealand: NZ\n902  19934           Das Air Cargo: SE (1)\n903  19935              Star Aviation: SRA\n904  19936       Territorial Airlines: TRR\n905  19937             Loken Aviation: LKN",
            "text/html": "<div>\n<table border=\"1\" class=\"dataframe\">\n  <thead>\n    <tr style=\"text-align: right;\">\n      <th></th>\n      <th>Code</th>\n      <th>Description</th>\n    </tr>\n  </thead>\n  <tbody>\n    <tr>\n      <th>900</th>\n      <td>19932</td>\n      <td>Apa International Air S.A.: 7P</td>\n    </tr>\n    <tr>\n      <th>901</th>\n      <td>19933</td>\n      <td>Air New Zealand: NZ</td>\n    </tr>\n    <tr>\n      <th>902</th>\n      <td>19934</td>\n      <td>Das Air Cargo: SE (1)</td>\n    </tr>\n    <tr>\n      <th>903</th>\n      <td>19935</td>\n      <td>Star Aviation: SRA</td>\n    </tr>\n    <tr>\n      <th>904</th>\n      <td>19936</td>\n      <td>Territorial Airlines: TRR</td>\n    </tr>\n    <tr>\n      <th>905</th>\n      <td>19937</td>\n      <td>Loken Aviation: LKN</td>\n    </tr>\n  </tbody>\n</table>\n</div>"
          },
          "metadata": {}
        }
      ]
    },
    {
      "metadata": {
        "trusted": true
      },
      "cell_type": "code",
      "source": "air3 = pd.read_csv('data/airports.csv')",
      "execution_count": 10,
      "outputs": []
    },
    {
      "metadata": {
        "trusted": true
      },
      "cell_type": "code",
      "source": "air3.loc[6000:6005,]",
      "execution_count": 26,
      "outputs": [
        {
          "output_type": "execute_result",
          "execution_count": 26,
          "data": {
            "text/plain": "     Code                       Description\n6000  WUJ  Duchesne, UT: Duchesne Municipal\n6001  WUQ            Ocean Shores, WA: Avco\n6002  WUU     Wau, South Sudan: Wau Airport\n6003  WUX             Wuxi, China: Shuofang\n6004  WV1  Charleston, WV: Mcs-Pad Heliport\n6005  WV2           Logan, WV: Logan County",
            "text/html": "<div>\n<table border=\"1\" class=\"dataframe\">\n  <thead>\n    <tr style=\"text-align: right;\">\n      <th></th>\n      <th>Code</th>\n      <th>Description</th>\n    </tr>\n  </thead>\n  <tbody>\n    <tr>\n      <th>6000</th>\n      <td>WUJ</td>\n      <td>Duchesne, UT: Duchesne Municipal</td>\n    </tr>\n    <tr>\n      <th>6001</th>\n      <td>WUQ</td>\n      <td>Ocean Shores, WA: Avco</td>\n    </tr>\n    <tr>\n      <th>6002</th>\n      <td>WUU</td>\n      <td>Wau, South Sudan: Wau Airport</td>\n    </tr>\n    <tr>\n      <th>6003</th>\n      <td>WUX</td>\n      <td>Wuxi, China: Shuofang</td>\n    </tr>\n    <tr>\n      <th>6004</th>\n      <td>WV1</td>\n      <td>Charleston, WV: Mcs-Pad Heliport</td>\n    </tr>\n    <tr>\n      <th>6005</th>\n      <td>WV2</td>\n      <td>Logan, WV: Logan County</td>\n    </tr>\n  </tbody>\n</table>\n</div>"
          },
          "metadata": {}
        }
      ]
    },
    {
      "metadata": {
        "trusted": true
      },
      "cell_type": "code",
      "source": "",
      "execution_count": null,
      "outputs": []
    },
    {
      "metadata": {},
      "cell_type": "markdown",
      "source": "## Question 1\n\n* Which airline carrier is busiest in terms of volume?"
    },
    {
      "metadata": {
        "trusted": false
      },
      "cell_type": "code",
      "source": "# type your code here\nSelect * from table_1\nwhere col1 = '123'",
      "execution_count": null,
      "outputs": []
    },
    {
      "metadata": {},
      "cell_type": "markdown",
      "source": "## Question 2\n* Which city is busiest in terms of traffic?\n    * Please note that you need to print out the city names against the traffic number and not just the airport name\n    * Ex. an airport name entry looks like : **New York, NY: John F Kennedy International**. The city name from this entry is **New York** "
    },
    {
      "metadata": {
        "trusted": false
      },
      "cell_type": "code",
      "source": "# type your code below\n",
      "execution_count": 8,
      "outputs": []
    },
    {
      "metadata": {},
      "cell_type": "markdown",
      "source": "## Question 3\n* Which carrier has got the highest air time?"
    },
    {
      "metadata": {
        "trusted": false
      },
      "cell_type": "code",
      "source": "# type your code below\n",
      "execution_count": 9,
      "outputs": []
    },
    {
      "metadata": {},
      "cell_type": "markdown",
      "source": "## Question 4\n* List top 5 cities which are busiest in terms of average flights handled per day for the month of June?"
    },
    {
      "metadata": {
        "trusted": false
      },
      "cell_type": "code",
      "source": "# type your code below\n",
      "execution_count": 10,
      "outputs": []
    },
    {
      "metadata": {},
      "cell_type": "markdown",
      "source": "## Question 5\n* Which day of the week is busiest in terms of traffic?\n* Please note : Total traffic = Total #arrivals + Total #departures"
    },
    {
      "metadata": {
        "trusted": false
      },
      "cell_type": "code",
      "source": "# type your code below\n",
      "execution_count": 11,
      "outputs": []
    },
    {
      "metadata": {},
      "cell_type": "markdown",
      "source": "## Question 6\n* Are weekends busier than weekdays?"
    },
    {
      "metadata": {
        "trusted": false
      },
      "cell_type": "code",
      "source": "# type your code below\n",
      "execution_count": 12,
      "outputs": []
    },
    {
      "metadata": {},
      "cell_type": "markdown",
      "source": "## Question 7\n* Longer duration flights have a larger tendency to have arrival delays. Analyze the hypothesis with appropriate visuals"
    },
    {
      "metadata": {
        "trusted": true
      },
      "cell_type": "code",
      "source": "# type your code below\nimport matplotlib.pyplot as plt",
      "execution_count": 27,
      "outputs": [
        {
          "output_type": "stream",
          "text": "/home/nbuser/anaconda3_420/lib/python3.5/site-packages/matplotlib/font_manager.py:281: UserWarning: Matplotlib is building the font cache using fc-list. This may take a moment.\n  'Matplotlib is building the font cache using fc-list. '\n",
          "name": "stderr"
        }
      ]
    },
    {
      "metadata": {
        "trusted": true
      },
      "cell_type": "code",
      "source": "",
      "execution_count": null,
      "outputs": []
    },
    {
      "metadata": {},
      "cell_type": "markdown",
      "source": "## Question 8\n* Consider the below bucketing logic for \"Actual departure Time\" :\n    * Any flight departing between 4am - 12pm : Morning flight\n    * Any flight departing between 12pm - 4pm : Afternoon flight\n    * Any flight departing between 4pm - 9pm : Evening flight\n    * Any flight departing between 9pm - 4am : Night flight\n* Based on the above logic, answer the below questions : \n    * Which time of the day observes highest departure delays?\n    * Create a pivot table with time of day in rows and type of delay in columns and #of occurrences in values\n    * Which type of delay is most frequent in evening flights?\n    * Which airport sees the highest occurrences of security related delay in the morning?"
    },
    {
      "metadata": {
        "trusted": false
      },
      "cell_type": "code",
      "source": "# type your code below\n",
      "execution_count": 14,
      "outputs": []
    },
    {
      "metadata": {},
      "cell_type": "markdown",
      "source": "## Question 9\n* Consider the term \"delay\" as :\n    * Any flight arriving more than 15 min later than the expected arrival time is considered \"arrival delay\"\n    * Any flight departing more than 15 min later than the expected departure time is considered \"departure delay\"\n    * A flight is considered delayed when any one of the above conditions is true\n    * Based on the above, answer the below questions :\n        * Which airline carriers have caused the highest % of delays?\n        * Which airports are facing the highest % of delayed flights?"
    },
    {
      "metadata": {
        "trusted": false
      },
      "cell_type": "code",
      "source": "# type your code below\n",
      "execution_count": null,
      "outputs": []
    },
    {
      "metadata": {},
      "cell_type": "markdown",
      "source": "## Question 10\n* List down top 10 cities in terms of total traffic between June and September\n* Please note : Total traffic = Total #arrivals + Total #departures"
    },
    {
      "metadata": {
        "trusted": false
      },
      "cell_type": "code",
      "source": "# type your code below\n",
      "execution_count": 15,
      "outputs": []
    }
  ],
  "metadata": {
    "kernelspec": {
      "name": "python3",
      "display_name": "Python 3",
      "language": "python"
    },
    "language_info": {
      "mimetype": "text/x-python",
      "nbconvert_exporter": "python",
      "name": "python",
      "file_extension": ".py",
      "version": "3.5.4",
      "pygments_lexer": "ipython3",
      "codemirror_mode": {
        "version": 3,
        "name": "ipython"
      }
    }
  },
  "nbformat": 4,
  "nbformat_minor": 1
}