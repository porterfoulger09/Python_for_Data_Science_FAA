{
  "cells": [
    {
      "metadata": {},
      "cell_type": "markdown",
      "source": "# Py data manipulation exercise set - superstore data"
    },
    {
      "metadata": {},
      "cell_type": "markdown",
      "source": "Use the following two data sets:\n<ol>\n<li>superstore_A.csv (9894 rows x 12 variables: 'Row ID', 'Order ID', 'Order Date', 'Ship Date','Ship Mode', 'Customer ID', 'Customer Name', 'Segment', 'Country','City', 'State')</li>\n<li>superstore_B.csv\" (9894 rows x 12 variables: 'Postal Code', 'Region', 'Product ID', 'Category','Sub-Category', 'Product Name', 'Sales', 'Quantity', 'Discount','Profit', 'Row ID')</li>\n</ol>\n\n**Note:**\n<li>The column 'Row ID' is common to both data sets and is an unique identifier</li>\n<li>The column named 'X' or 'Unnamed:0' is an artefact of writing the CSV file, and should be discarded</li>\n<li>These are (random) subsets of a larger data set containing order records of a superstore</li>\n<li>Sometimes problems arise while reading CSV files because of encoding problems. If this happens you need to open the data file with a good text editor (like Notepad++) and convert the encoding to ANSI</li>\n\n#### Tasks\n<ol>\n<li>Create a data set that contains all data from either data set</li>\n<li>Create a new data set that contains records for which data are available for all variables. **Use the data set created here for the remaining questions**</li>\n<li>Report the average (“Sales”) sales and total number of orders (“Order ID”) by region</li>\n<li>Repeat the same but only including orders for which order year is 2015 or later</li>\n<li>Extract the records for the products with the top ten profit value. Report their  category, subcategory and # units sold</li>\n<li>Find the top 5 sub-categories in terms of profit margin</li>\n<li>Create a grouped boxplot of total sales by subcategory. What problems do you see with this plot? How can you make the plot more meaningful?</li>\n<li>Depict the number of records for each region with an appropriate graphic</li>\n<li>Report the average order-to-dispatch days</li>\n</ol>"
    },
    {
      "metadata": {
        "trusted": true
      },
      "cell_type": "code",
      "source": "",
      "execution_count": null,
      "outputs": []
    },
    {
      "metadata": {},
      "cell_type": "markdown",
      "source": "# End"
    }
  ],
  "metadata": {
    "kernelspec": {
      "name": "python3",
      "display_name": "Python 3",
      "language": "python"
    },
    "language_info": {
      "mimetype": "text/x-python",
      "nbconvert_exporter": "python",
      "name": "python",
      "pygments_lexer": "ipython3",
      "version": "3.5.4",
      "file_extension": ".py",
      "codemirror_mode": {
        "version": 3,
        "name": "ipython"
      }
    }
  },
  "nbformat": 4,
  "nbformat_minor": 1
}