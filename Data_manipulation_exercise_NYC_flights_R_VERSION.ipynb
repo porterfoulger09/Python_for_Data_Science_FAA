{
  "cells": [
    {
      "metadata": {
        "collapsed": true
      },
      "cell_type": "markdown",
      "source": "# R data manipulation exercise - NYC flights data"
    },
    {
      "metadata": {},
      "cell_type": "markdown",
      "source": "### Problem\n\n#### Data\n\nLoad the data set nycflights_full.csv. This is data on about 336000 flights during the year 2013. The data is in three pieces - nycflights_full_p1.csv, nycflights_full_p2.csv, nycflights_full_p3.csv. You need to put these together by concatenating them - they all contain the same columns, and there is no duplication of records among these data sets.\n\n**Note that there are NAs in this data set: deal with them appropriately.**\n\n\n#### Tasks\n<ol>\n<li>Find out the number of flights for each day of the week</li>\n<li>Find the average distance, total distance and number for all delayed flights on Friday (Note that we need to define what is meant by “delayed”, and create an indicator variable for this)</li>\n<li>Find out how many flights were on time on weekdays and weekends (Consider Saturday and Sunday as weekends)</li>\n<li>Find out the number of flights for each destination across all weekdays (i.e. Monday to Friday)</li>\n<li>Find number of delayed flights by distance and origin (you need to convert the continuous numeric variable distance into a categoric variable)</li>\n</ol>"
    },
    {
      "metadata": {
        "trusted": true
      },
      "cell_type": "code",
      "source": "",
      "execution_count": null,
      "outputs": []
    }
  ],
  "metadata": {
    "kernelspec": {
      "name": "r",
      "display_name": "R",
      "language": "R"
    },
    "language_info": {
      "mimetype": "text/x-r-source",
      "name": "R",
      "pygments_lexer": "r",
      "version": "3.5.3",
      "file_extension": ".r",
      "codemirror_mode": "r"
    }
  },
  "nbformat": 4,
  "nbformat_minor": 2
}